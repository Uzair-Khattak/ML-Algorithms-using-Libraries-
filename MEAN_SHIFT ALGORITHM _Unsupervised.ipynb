{
 "cells": [
  {
   "cell_type": "markdown",
   "metadata": {},
   "source": [
    "# UNSUPERVISED LEARNNING : \n",
    "\n",
    "\n",
    "<img src=\"mypic2.png\" >\n",
    "\n",
    "Unsupervised learning is the type of machine learning in which the computer is allowed to make/group the data on their own based on the different similarities among the grouped data.\n",
    "\n",
    "# # EXAMPLES : \n",
    "There are many efficient algorithms of the unsupervised learning which are categorized into the two majro categories : \n",
    "\n",
    "--> Association  \n",
    "-->Clustering \n",
    "\n",
    "# # # Clustering : \n",
    "\n",
    "\n",
    "<img src=\"mypic3.png\" >\n",
    "\n",
    "The most common unsupervised learning technieques are the Clustering algorithms , these algorithms groups the data based on finding the hidden patterns and also group the data which has similiar features in the graph.\n",
    "\n",
    "<img src=\"ffff.png\" >\n",
    "Some of the main clustering Algorithms includes :\n",
    "1) K-Means Clustering \n",
    "2) Mean Shift Clustering \n",
    "3) Density-Based Spatial Clustering of Applications with Noise (DBSCAN)\n",
    "4) Agglomerative Hierarchical Clustering\n",
    "\n",
    "# # # Association :\n",
    "\n",
    "\n",
    "After the clustering , Association is the major second pillar of the Unsupervised Learning .\n",
    "It basically deals in such a way to find the assocition between the regular patterns : \n",
    "\n",
    "<img src=\"mypic4.png\" >\n",
    "\n",
    "-->Association Discovering the\n",
    "probability of the co-occurrence of\n",
    "items in a collection\n",
    "\n",
    "--> Rule based learning to discover\n",
    "relationships between variables\n",
    "\n",
    "-->Which product are purchased\n",
    "together\n",
    "\n",
    "\n",
    "# APPLICATIONS  OF UNSUPERVISED MACHINE LEARNING : \n",
    "-->  Market basket analysis\n",
    "--> Semantic Clustering\n",
    "--> Delivery Store optimization\n",
    "--> Identify accident prone areas \n"
   ]
  },
  {
   "cell_type": "markdown",
   "metadata": {},
   "source": [
    "# FINAL RECAP : \n",
    "Unsupervised Learning\n",
    "--> Uses unlabeled data as input\n",
    "--> Most commonly used\n",
    " \n",
    "-->Examples of the  unsupervised learning algorithms\n",
    "   are k means clustering,\n",
    "   hierarchical clustering, apriori\n",
    "   algorithm\n",
    "--> Unsupervised learning has no\n",
    "feedback mechanism Recap"
   ]
  },
  {
   "cell_type": "markdown",
   "metadata": {},
   "source": [
    "# # CLUSTERING ALGORITHM --> MEAN_SHIFT \n",
    "\n",
    "\n",
    "\n",
    "\n",
    "\n",
    "<img src=\"mypic1.png\">"
   ]
  },
  {
   "cell_type": "markdown",
   "metadata": {},
   "source": [
    "# STEP 1 - IMPORTING LIBRARIES "
   ]
  },
  {
   "cell_type": "code",
   "execution_count": 44,
   "metadata": {},
   "outputs": [],
   "source": [
    "import pandas as pd "
   ]
  },
  {
   "cell_type": "code",
   "execution_count": 45,
   "metadata": {},
   "outputs": [],
   "source": [
    "import matplotlib.pyplot as plt "
   ]
  },
  {
   "cell_type": "code",
   "execution_count": 46,
   "metadata": {},
   "outputs": [],
   "source": [
    "from sklearn.cluster import MeanShift"
   ]
  },
  {
   "cell_type": "code",
   "execution_count": 47,
   "metadata": {},
   "outputs": [],
   "source": [
    "from sklearn.datasets import make_blobs "
   ]
  },
  {
   "cell_type": "code",
   "execution_count": 48,
   "metadata": {},
   "outputs": [],
   "source": [
    "import numpy as np "
   ]
  },
  {
   "cell_type": "markdown",
   "metadata": {},
   "source": [
    "# STEP 2 - GENERATING THE DATA "
   ]
  },
  {
   "cell_type": "code",
   "execution_count": 64,
   "metadata": {},
   "outputs": [],
   "source": [
    "my_data,_=make_blobs(n_samples=100,centers=3)"
   ]
  },
  {
   "cell_type": "code",
   "execution_count": 65,
   "metadata": {},
   "outputs": [
    {
     "data": {
      "text/plain": [
       "array([[ 1.03672271e+01,  5.32452150e+00],\n",
       "       [ 1.06906692e+01,  7.43964603e+00],\n",
       "       [-6.35797329e-01,  1.04867694e+00],\n",
       "       [ 7.95997435e+00, -1.51922086e+00],\n",
       "       [ 1.12312162e+01,  6.85651664e+00],\n",
       "       [ 1.95595067e+00,  6.08854765e-01],\n",
       "       [ 9.22122379e+00,  6.21370750e-01],\n",
       "       [ 9.02657912e+00,  6.72374061e+00],\n",
       "       [ 2.02485719e+00,  1.41786264e+00],\n",
       "       [ 8.32195373e+00,  7.22640972e+00],\n",
       "       [ 9.06503863e+00, -2.02204587e+00],\n",
       "       [ 8.26281260e+00, -6.00208121e-01],\n",
       "       [ 2.32874480e+00, -7.71903618e-01],\n",
       "       [ 9.99792108e+00, -1.21519485e+00],\n",
       "       [ 9.14174980e+00, -1.16686165e+00],\n",
       "       [ 1.02870912e+01,  7.10241296e+00],\n",
       "       [ 9.03164629e+00,  8.70620053e+00],\n",
       "       [ 9.47819233e+00,  6.45734008e+00],\n",
       "       [ 9.78755014e+00,  8.28457942e+00],\n",
       "       [ 1.02027514e+01,  9.97818555e+00],\n",
       "       [ 1.56700128e+00,  1.57525202e+00],\n",
       "       [ 3.03476101e-01,  4.97514541e-01],\n",
       "       [ 2.99208104e+00, -4.72123811e-01],\n",
       "       [ 7.37335909e+00, -1.40871036e+00],\n",
       "       [ 7.51518047e+00, -1.66952423e+00],\n",
       "       [-1.95283283e-01,  6.70558096e-03],\n",
       "       [ 3.35139951e+00,  8.10852213e-01],\n",
       "       [ 8.86045271e-01,  1.74749088e+00],\n",
       "       [ 1.17996051e+01,  8.03471965e+00],\n",
       "       [ 1.13301605e+01,  8.72217136e+00],\n",
       "       [ 8.91957904e+00,  6.96241272e+00],\n",
       "       [ 7.68029795e+00,  1.96172177e-01],\n",
       "       [ 8.06362535e+00, -3.41587646e+00],\n",
       "       [ 9.16201305e+00,  2.12863486e-01],\n",
       "       [ 8.04539053e+00,  2.45944660e-01],\n",
       "       [ 1.08447574e+01,  6.83844615e+00],\n",
       "       [ 1.04824349e+01,  9.73852570e+00],\n",
       "       [ 1.05881791e+01,  7.49690103e+00],\n",
       "       [ 9.54702598e+00,  7.18731407e+00],\n",
       "       [ 1.18920168e+00,  1.90781409e+00],\n",
       "       [ 1.02849295e+00,  1.99582616e-02],\n",
       "       [ 8.90373402e+00, -1.26008335e+00],\n",
       "       [ 1.99798786e+00,  4.41418375e-01],\n",
       "       [ 9.92238251e+00, -2.70123229e+00],\n",
       "       [ 8.79610270e+00,  7.31673717e+00],\n",
       "       [ 2.37533625e+00, -1.30371412e+00],\n",
       "       [ 1.31662437e+00,  1.32986183e+00],\n",
       "       [-2.42076425e-02,  1.58510958e+00],\n",
       "       [ 9.74463804e+00,  6.48360108e+00],\n",
       "       [ 9.84009979e+00,  7.76857652e+00],\n",
       "       [ 1.55370340e+00,  1.20869085e+00],\n",
       "       [ 1.04822618e+01,  9.51284011e+00],\n",
       "       [ 6.98709690e+00, -8.12212631e-01],\n",
       "       [ 2.90928427e+00,  8.63431903e-01],\n",
       "       [ 8.92631363e+00,  9.37854053e+00],\n",
       "       [ 8.67162646e+00, -1.44583364e-01],\n",
       "       [ 2.38624634e+00, -3.21063660e-01],\n",
       "       [ 6.89655295e+00, -2.01793192e+00],\n",
       "       [ 1.05793201e+01,  7.82467310e+00],\n",
       "       [ 8.32396872e+00, -8.71236141e-01],\n",
       "       [ 7.87457480e+00, -2.14339271e+00],\n",
       "       [-7.04549943e-01,  8.31205543e-01],\n",
       "       [ 1.03539177e+00,  1.65471543e+00],\n",
       "       [ 7.77711956e+00, -1.26861719e+00],\n",
       "       [ 9.13394291e+00, -2.79626409e+00],\n",
       "       [ 1.61000704e+00,  3.23293145e-01],\n",
       "       [ 1.19598372e+00,  1.04586323e+00],\n",
       "       [ 9.69535141e+00, -6.66001000e-01],\n",
       "       [-9.61943366e-01, -5.38549862e-01],\n",
       "       [ 8.50089660e+00, -6.44558762e-01],\n",
       "       [ 9.44727725e+00,  7.80362833e+00],\n",
       "       [ 6.33184048e+00,  1.39469599e+00],\n",
       "       [ 9.04724610e+00,  6.57387524e+00],\n",
       "       [ 8.90862676e-01,  8.10401164e-01],\n",
       "       [ 8.26460547e+00,  1.60516773e-01],\n",
       "       [ 7.60340564e+00, -1.26670897e+00],\n",
       "       [ 1.96615718e+00,  1.26261582e+00],\n",
       "       [ 9.09086522e+00,  8.29925974e+00],\n",
       "       [ 7.60019227e+00, -1.35169872e+00],\n",
       "       [ 1.06941750e+01,  8.71687667e+00],\n",
       "       [ 2.79059750e-01,  7.60015363e-01],\n",
       "       [ 7.66608776e+00, -4.36699008e-01],\n",
       "       [ 9.66527551e+00, -3.14999920e+00],\n",
       "       [ 1.03804290e+01,  6.68233412e+00],\n",
       "       [ 3.52395766e-01, -3.65518218e-01],\n",
       "       [ 5.79822837e-02,  1.28996996e+00],\n",
       "       [ 1.11699102e+01,  7.26359344e+00],\n",
       "       [ 6.79394639e-01,  1.08246682e+00],\n",
       "       [-3.04043567e-02, -8.00397179e-01],\n",
       "       [ 1.01571878e+01,  7.96159469e+00],\n",
       "       [ 1.04521979e+01,  7.47189968e+00],\n",
       "       [ 1.13291641e+00,  7.29143528e-01],\n",
       "       [ 9.02158978e+00, -9.48448284e-01],\n",
       "       [ 1.00711736e+01,  8.44036076e+00],\n",
       "       [ 1.15751021e+01,  6.24724864e+00],\n",
       "       [ 8.14524605e+00, -1.25063497e+00],\n",
       "       [ 1.05534772e+01, -1.66579721e+00],\n",
       "       [ 1.19934764e+00, -2.24947409e+00],\n",
       "       [ 1.04794034e+01,  8.04463462e+00],\n",
       "       [ 9.32478695e+00, -1.12300669e+00]])"
      ]
     },
     "execution_count": 65,
     "metadata": {},
     "output_type": "execute_result"
    }
   ],
   "source": [
    "my_data"
   ]
  },
  {
   "cell_type": "markdown",
   "metadata": {},
   "source": [
    "# STEP-3 DISPLAYING THE DATA "
   ]
  },
  {
   "cell_type": "code",
   "execution_count": 66,
   "metadata": {},
   "outputs": [
    {
     "data": {
      "text/plain": [
       "<matplotlib.collections.PathCollection at 0x1e1b7ac0240>"
      ]
     },
     "execution_count": 66,
     "metadata": {},
     "output_type": "execute_result"
    },
    {
     "data": {
      "image/png": "[encoded data removed]",
      "text/plain": [
       "<Figure size 432x288 with 1 Axes>"
      ]
     },
     "metadata": {
      "needs_background": "light"
     },
     "output_type": "display_data"
    }
   ],
   "source": [
    "plt.scatter(my_data[:,0],my_data[:,1])"
   ]
  },
  {
   "cell_type": "markdown",
   "metadata": {},
   "source": [
    "# STEP-4 ALGORITHM IN-ACTION "
   ]
  },
  {
   "cell_type": "code",
   "execution_count": 67,
   "metadata": {},
   "outputs": [],
   "source": [
    "algorithm=MeanShift()"
   ]
  },
  {
   "cell_type": "code",
   "execution_count": 68,
   "metadata": {},
   "outputs": [
    {
     "data": {
      "text/plain": [
       "MeanShift(bandwidth=None, bin_seeding=False, cluster_all=True, min_bin_freq=1,\n",
       "     n_jobs=None, seeds=None)"
      ]
     },
     "execution_count": 68,
     "metadata": {},
     "output_type": "execute_result"
    }
   ],
   "source": [
    "algorithm.fit(my_data)"
   ]
  },
  {
   "cell_type": "code",
   "execution_count": 69,
   "metadata": {},
   "outputs": [
    {
     "data": {
      "text/plain": [
       "array([[10.08442125,  7.67265642],\n",
       "       [ 1.1519317 ,  0.54655879],\n",
       "       [ 8.50064063, -1.19062128]])"
      ]
     },
     "execution_count": 69,
     "metadata": {},
     "output_type": "execute_result"
    }
   ],
   "source": [
    "algorithm.cluster_centers_"
   ]
  },
  {
   "cell_type": "code",
   "execution_count": 70,
   "metadata": {},
   "outputs": [
    {
     "data": {
      "text/plain": [
       "array([0, 0, 1, 2, 0, 1, 2, 0, 1, 0, 2, 2, 1, 2, 2, 0, 0, 0, 0, 0, 1, 1,\n",
       "       1, 2, 2, 1, 1, 1, 0, 0, 0, 2, 2, 2, 2, 0, 0, 0, 0, 1, 1, 2, 1, 2,\n",
       "       0, 1, 1, 1, 0, 0, 1, 0, 2, 1, 0, 2, 1, 2, 0, 2, 2, 1, 1, 2, 2, 1,\n",
       "       1, 2, 1, 2, 0, 2, 0, 1, 2, 2, 1, 0, 2, 0, 1, 2, 2, 0, 1, 1, 0, 1,\n",
       "       1, 0, 0, 1, 2, 0, 0, 2, 2, 1, 0, 2], dtype=int64)"
      ]
     },
     "execution_count": 70,
     "metadata": {},
     "output_type": "execute_result"
    }
   ],
   "source": [
    "algorithm.labels_"
   ]
  },
  {
   "cell_type": "markdown",
   "metadata": {},
   "source": [
    "# STEP-5 DISPLAYING THE CLUSTERS "
   ]
  },
  {
   "cell_type": "code",
   "execution_count": 71,
   "metadata": {},
   "outputs": [],
   "source": [
    "color_array=2*['r','b','g','y']\n"
   ]
  },
  {
   "cell_type": "code",
   "execution_count": 72,
   "metadata": {},
   "outputs": [
    {
     "data": {
      "text/plain": [
       "['r', 'b', 'g', 'y', 'r', 'b', 'g', 'y']"
      ]
     },
     "execution_count": 72,
     "metadata": {},
     "output_type": "execute_result"
    }
   ],
   "source": [
    "color_array"
   ]
  },
  {
   "cell_type": "code",
   "execution_count": 73,
   "metadata": {},
   "outputs": [
    {
     "data": {
      "image/png": "[encoded data removed]",
      "text/plain": [
       "<Figure size 432x288 with 1 Axes>"
      ]
     },
     "metadata": {
      "needs_background": "light"
     },
     "output_type": "display_data"
    }
   ],
   "source": [
    "for i in range(len(my_data)):\n",
    "    plt.scatter(my_data[i][0],my_data[i][1],s=50,c=color_array[algorithm.labels_[i]])\n",
    "for j in range(len(algorithm.cluster_centers_)):\n",
    "    plt.scatter(algorithm.cluster_centers_[j][0],algorithm.cluster_centers_[j][1],s=50,c='y')"
   ]
  },
  {
   "cell_type": "markdown",
   "metadata": {},
   "source": [
    "# CAN ALSO PREDICT NEW DATA POINTS "
   ]
  },
  {
   "cell_type": "code",
   "execution_count": 89,
   "metadata": {},
   "outputs": [],
   "source": [
    "my_new_point=np.array([0.0,-4.0])"
   ]
  },
  {
   "cell_type": "code",
   "execution_count": 90,
   "metadata": {},
   "outputs": [],
   "source": [
    "reshaped=np.reshape(my_new_point,(1,-1))"
   ]
  },
  {
   "cell_type": "code",
   "execution_count": 92,
   "metadata": {},
   "outputs": [
    {
     "data": {
      "text/plain": [
       "array([1], dtype=int64)"
      ]
     },
     "execution_count": 92,
     "metadata": {},
     "output_type": "execute_result"
    }
   ],
   "source": [
    "algorithm.predict(reshaped)"
   ]
  },
  {
   "cell_type": "code",
   "execution_count": null,
   "metadata": {},
   "outputs": [],
   "source": [
    "#which shows that we have correct unsuper vised learning working perfectly fine "
   ]
  },
  {
   "cell_type": "code",
   "execution_count": null,
   "metadata": {},
   "outputs": [],
   "source": []
  },
  {
   "cell_type": "code",
   "execution_count": null,
   "metadata": {},
   "outputs": [],
   "source": []
  }
 ],
 "metadata": {
  "kernelspec": {
   "display_name": "Python 3",
   "language": "python",
   "name": "python3"
  },
  "language_info": {
   "codemirror_mode": {
    "name": "ipython",
    "version": 3
   },
   "file_extension": ".py",
   "mimetype": "text/x-python",
   "name": "python",
   "nbconvert_exporter": "python",
   "pygments_lexer": "ipython3",
   "version": "3.7.3"
  }
 },
 "nbformat": 4,
 "nbformat_minor": 2
}
