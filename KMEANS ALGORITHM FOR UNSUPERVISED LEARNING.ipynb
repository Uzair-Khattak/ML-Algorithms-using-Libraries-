{
 "cells": [
  {
   "cell_type": "markdown",
   "metadata": {},
   "source": [
    "# KMEANS ALGORITHM FOR UNSUPERVISED LEARNING "
   ]
  },
  {
   "cell_type": "markdown",
   "metadata": {},
   "source": [
    "# IMPORTING THE LIBRARIES TO BE USED \n"
   ]
  },
  {
   "cell_type": "code",
   "execution_count": 1,
   "metadata": {},
   "outputs": [],
   "source": [
    "import pandas as pd"
   ]
  },
  {
   "cell_type": "code",
   "execution_count": 2,
   "metadata": {},
   "outputs": [],
   "source": [
    "import matplotlib.pyplot as plt"
   ]
  },
  {
   "cell_type": "code",
   "execution_count": 3,
   "metadata": {},
   "outputs": [],
   "source": [
    "import numpy as np"
   ]
  },
  {
   "cell_type": "code",
   "execution_count": 4,
   "metadata": {},
   "outputs": [],
   "source": [
    "from sklearn.cluster import KMeans"
   ]
  },
  {
   "cell_type": "markdown",
   "metadata": {},
   "source": [
    "# CREATING RANDOM DATA  (Numerical )"
   ]
  },
  {
   "cell_type": "code",
   "execution_count": 5,
   "metadata": {},
   "outputs": [],
   "source": [
    "data_array = np.random.rand(300,2)*-5"
   ]
  },
  {
   "cell_type": "code",
   "execution_count": 6,
   "metadata": {},
   "outputs": [],
   "source": [
    "sec_cluster=np.random.rand(100,2)*5+5"
   ]
  },
  {
   "cell_type": "code",
   "execution_count": 7,
   "metadata": {},
   "outputs": [],
   "source": [
    "third_cluster=np.random.rand(50,2)*5-15"
   ]
  },
  {
   "cell_type": "code",
   "execution_count": 8,
   "metadata": {},
   "outputs": [],
   "source": [
    "data_array[150:250,:]=sec_cluster"
   ]
  },
  {
   "cell_type": "code",
   "execution_count": 9,
   "metadata": {},
   "outputs": [],
   "source": [
    "data_array[250:300,:]=third_cluster"
   ]
  },
  {
   "cell_type": "code",
   "execution_count": 10,
   "metadata": {},
   "outputs": [
    {
     "data": {
      "text/plain": [
       "array([[-4.02605941e+00, -5.36239375e-01],\n",
       "       [-9.73684618e-01, -9.63209145e-01],\n",
       "       [-1.15611676e+00, -3.02849270e+00],\n",
       "       [-2.78527843e+00, -1.01895083e+00],\n",
       "       [-4.23157465e+00, -1.04460264e+00],\n",
       "       [-1.30823862e+00, -2.59738323e+00],\n",
       "       [-3.14694950e+00, -3.54086069e+00],\n",
       "       [-8.09544487e-01, -3.01221662e-01],\n",
       "       [-2.23109331e+00, -2.55250671e-01],\n",
       "       [-1.71133560e+00, -3.88821875e+00],\n",
       "       [-2.35718802e+00, -4.32425208e+00],\n",
       "       [-3.01900409e-01, -2.96649826e+00],\n",
       "       [-6.24268934e-01, -3.95896794e+00],\n",
       "       [-4.49505744e+00, -4.18372932e+00],\n",
       "       [-2.04573707e+00, -3.67762741e+00],\n",
       "       [-2.88297570e+00, -4.91982393e+00],\n",
       "       [-4.58110088e+00, -1.64108317e+00],\n",
       "       [-4.29002822e-01, -2.96170239e+00],\n",
       "       [-8.46109749e-01, -1.09975189e+00],\n",
       "       [-1.35081234e+00, -2.00276881e+00],\n",
       "       [-1.21860666e+00, -4.67669418e+00],\n",
       "       [-2.23939472e-01, -1.01861487e+00],\n",
       "       [-2.20045259e+00, -3.42421301e+00],\n",
       "       [-4.16549042e+00, -2.43203908e+00],\n",
       "       [-2.43735906e+00, -5.99768573e-01],\n",
       "       [-2.02688220e+00, -3.20960926e-01],\n",
       "       [-3.92399684e+00, -4.06781146e+00],\n",
       "       [-7.14776826e-01, -5.17738236e-01],\n",
       "       [-3.40952254e+00, -1.09433842e-01],\n",
       "       [-3.05404794e+00, -4.36238521e+00],\n",
       "       [-4.43303524e+00, -3.16076382e+00],\n",
       "       [-3.30456561e+00, -3.34064279e+00],\n",
       "       [-9.03074341e-01, -3.01651913e-01],\n",
       "       [-2.95307976e+00, -3.80411698e+00],\n",
       "       [-3.15675367e+00, -8.02016680e-01],\n",
       "       [-1.35743842e+00, -4.19956555e+00],\n",
       "       [-4.21873882e-01, -4.41401222e-01],\n",
       "       [-3.49780790e+00, -2.27192277e+00],\n",
       "       [-2.42840681e+00, -4.55925734e+00],\n",
       "       [-3.03808706e+00, -4.64460320e+00],\n",
       "       [-2.64747922e+00, -5.08403059e-01],\n",
       "       [-3.47647316e-01, -3.96691038e+00],\n",
       "       [-4.83400137e+00, -2.06769761e+00],\n",
       "       [-4.68192969e+00, -4.67362187e+00],\n",
       "       [-3.67435108e+00, -3.27809079e+00],\n",
       "       [-3.88785594e+00, -4.00800738e+00],\n",
       "       [-1.09088297e+00, -2.54021868e+00],\n",
       "       [-1.01510354e+00, -1.72722335e+00],\n",
       "       [-3.29267630e+00, -1.78470352e+00],\n",
       "       [-2.57684622e+00, -2.09740060e+00],\n",
       "       [-3.34397435e+00, -1.44818750e+00],\n",
       "       [-1.24441234e+00, -4.43588545e+00],\n",
       "       [-7.66500071e-01, -1.39673241e+00],\n",
       "       [-1.61108906e+00, -5.71048804e-03],\n",
       "       [-2.50983782e+00, -4.45390493e+00],\n",
       "       [-3.71524487e+00, -1.30332499e+00],\n",
       "       [-3.00150540e+00, -1.95953003e+00],\n",
       "       [-1.28395954e+00, -4.60459953e+00],\n",
       "       [-1.11805528e+00, -4.51956569e+00],\n",
       "       [-3.08609352e+00, -4.64977381e+00],\n",
       "       [-3.55281648e+00, -4.49484525e+00],\n",
       "       [-4.72674063e-01, -5.68496815e-01],\n",
       "       [-3.95248386e+00, -3.68704457e+00],\n",
       "       [-3.29128438e+00, -2.28506436e+00],\n",
       "       [-9.37363392e-02, -7.21854661e-01],\n",
       "       [-2.85540841e-01, -4.69865416e+00],\n",
       "       [-9.80772901e-01, -1.18593628e+00],\n",
       "       [-2.31906154e+00, -2.75085039e+00],\n",
       "       [-1.93544803e+00, -2.84854365e+00],\n",
       "       [-3.01624051e-03, -1.74132326e+00],\n",
       "       [-4.23466093e+00, -3.03806745e+00],\n",
       "       [-2.79017521e+00, -2.23628374e+00],\n",
       "       [-2.88508218e-01, -4.25623790e+00],\n",
       "       [-7.52383170e-01, -4.38510234e+00],\n",
       "       [-1.02857713e+00, -2.92831922e+00],\n",
       "       [-4.88881701e+00, -4.52908478e-01],\n",
       "       [-3.02487283e+00, -2.74711220e+00],\n",
       "       [-1.24201815e-01, -2.56791123e+00],\n",
       "       [-6.22677996e-01, -3.33695123e+00],\n",
       "       [-1.64210519e+00, -1.34620387e+00],\n",
       "       [-2.70599491e+00, -1.22413085e+00],\n",
       "       [-1.36920969e+00, -4.43597023e+00],\n",
       "       [-3.74411296e+00, -9.24898645e-01],\n",
       "       [-4.81249587e+00, -4.70481927e+00],\n",
       "       [-3.68944810e+00, -2.72936970e+00],\n",
       "       [-1.31358469e-01, -1.87243202e+00],\n",
       "       [-4.38588367e+00, -3.25837300e+00],\n",
       "       [-1.62779049e+00, -3.70590964e+00],\n",
       "       [-3.83967678e+00, -1.52304606e+00],\n",
       "       [-6.07878671e-01, -1.80241649e+00],\n",
       "       [-1.31944601e+00, -3.29528034e+00],\n",
       "       [-1.21241445e+00, -4.36570830e+00],\n",
       "       [-3.78424183e+00, -3.91811679e+00],\n",
       "       [-3.43199999e+00, -3.52802033e+00],\n",
       "       [-4.24748338e+00, -2.21873572e+00],\n",
       "       [-4.30020153e+00, -4.97018765e+00],\n",
       "       [-3.36174468e+00, -4.49765397e+00],\n",
       "       [-3.96202017e+00, -4.31434493e+00],\n",
       "       [-4.64997803e+00, -9.81827068e-01],\n",
       "       [-3.72984692e+00, -1.36189237e+00],\n",
       "       [-1.29491386e+00, -4.93991954e+00],\n",
       "       [-2.74998965e+00, -2.96934882e+00],\n",
       "       [-4.06540600e+00, -2.69134220e-01],\n",
       "       [-5.53383293e-01, -1.98679673e+00],\n",
       "       [-2.46943464e-01, -6.72983479e-03],\n",
       "       [-5.58940676e-01, -1.00964416e-01],\n",
       "       [-9.47034483e-01, -2.14620696e+00],\n",
       "       [-1.25132262e+00, -2.91352598e+00],\n",
       "       [-2.76891236e+00, -1.46277353e+00],\n",
       "       [-6.81593918e-01, -7.17520184e-01],\n",
       "       [-4.98117992e+00, -3.13648944e+00],\n",
       "       [-1.31501257e+00, -4.17581661e+00],\n",
       "       [-3.48523048e+00, -4.01675231e+00],\n",
       "       [-9.97823617e-01, -2.87213992e+00],\n",
       "       [-2.66193953e+00, -2.38871650e+00],\n",
       "       [-3.13481838e+00, -6.59738384e-01],\n",
       "       [-3.33056804e+00, -3.02038696e+00],\n",
       "       [-6.33390482e-01, -4.51531393e+00],\n",
       "       [-1.09497800e+00, -1.50097567e+00],\n",
       "       [-2.61540467e+00, -3.05500898e+00],\n",
       "       [-6.50307451e-01, -2.51576017e+00],\n",
       "       [-4.01935761e+00, -2.01603288e+00],\n",
       "       [-3.43315672e-01, -3.70557541e+00],\n",
       "       [-2.58321635e-01, -2.94098058e+00],\n",
       "       [-3.16961925e-02, -3.97313845e+00],\n",
       "       [-1.67150799e+00, -4.58868873e-02],\n",
       "       [-2.82010790e-01, -4.68100228e+00],\n",
       "       [-1.24244125e+00, -1.24806112e+00],\n",
       "       [-7.43829353e-01, -3.07933997e+00],\n",
       "       [-2.66386393e+00, -3.72228768e+00],\n",
       "       [-3.35182326e+00, -1.66405056e+00],\n",
       "       [-5.02611590e-01, -2.66681810e-01],\n",
       "       [-4.71849615e+00, -3.45528044e+00],\n",
       "       [-3.05025978e+00, -1.29032884e+00],\n",
       "       [-3.75662931e+00, -2.84275241e+00],\n",
       "       [-4.48518110e+00, -4.55213769e+00],\n",
       "       [-9.65967590e-01, -4.09136183e+00],\n",
       "       [-3.20797811e+00, -3.93298742e+00],\n",
       "       [-1.15584680e+00, -2.18676983e+00],\n",
       "       [-2.58992486e+00, -7.63448095e-01],\n",
       "       [-4.88067062e+00, -2.80256505e+00],\n",
       "       [-4.84043820e+00, -4.53103676e+00],\n",
       "       [-2.45429253e+00, -1.96808991e+00],\n",
       "       [-4.76193247e+00, -2.18930371e+00],\n",
       "       [-4.74624124e+00, -2.74316743e+00],\n",
       "       [-8.10075200e-01, -2.89844602e+00],\n",
       "       [-3.00025322e+00, -1.51004641e+00],\n",
       "       [-2.25058172e+00, -4.54887816e-02],\n",
       "       [-2.01429154e+00, -2.14922962e+00],\n",
       "       [-3.23431142e+00, -3.67845394e+00],\n",
       "       [ 6.18972558e+00,  7.33702545e+00],\n",
       "       [ 7.81003767e+00,  6.38589951e+00],\n",
       "       [ 6.66690358e+00,  5.98319408e+00],\n",
       "       [ 6.60922865e+00,  8.81826602e+00],\n",
       "       [ 6.61850385e+00,  7.24644215e+00],\n",
       "       [ 8.74039236e+00,  5.28534799e+00],\n",
       "       [ 8.64300539e+00,  9.11198067e+00],\n",
       "       [ 9.81675057e+00,  6.99315901e+00],\n",
       "       [ 8.21023064e+00,  5.87868298e+00],\n",
       "       [ 7.46658267e+00,  9.06230131e+00],\n",
       "       [ 6.60681381e+00,  9.18453874e+00],\n",
       "       [ 7.45831870e+00,  8.12905584e+00],\n",
       "       [ 8.96112576e+00,  9.97589991e+00],\n",
       "       [ 5.47520020e+00,  8.52664159e+00],\n",
       "       [ 7.72185994e+00,  6.17899559e+00],\n",
       "       [ 6.71318891e+00,  7.30451819e+00],\n",
       "       [ 9.18573386e+00,  7.80633306e+00],\n",
       "       [ 6.70555020e+00,  5.57677801e+00],\n",
       "       [ 8.66518227e+00,  8.83428436e+00],\n",
       "       [ 5.88895633e+00,  9.53817910e+00],\n",
       "       [ 5.42799502e+00,  9.85103690e+00],\n",
       "       [ 6.62837164e+00,  6.45361936e+00],\n",
       "       [ 7.45982922e+00,  6.05926029e+00],\n",
       "       [ 7.01574047e+00,  6.63701236e+00],\n",
       "       [ 6.71000659e+00,  9.40468241e+00],\n",
       "       [ 7.77666815e+00,  6.74793292e+00],\n",
       "       [ 5.72883484e+00,  9.08834950e+00],\n",
       "       [ 9.07395181e+00,  7.35833559e+00],\n",
       "       [ 7.17926528e+00,  5.70528380e+00],\n",
       "       [ 5.31301799e+00,  9.12362424e+00],\n",
       "       [ 9.06743924e+00,  5.84189574e+00],\n",
       "       [ 6.89849603e+00,  8.00181331e+00],\n",
       "       [ 6.04564523e+00,  9.94012482e+00],\n",
       "       [ 5.98469782e+00,  5.05339413e+00],\n",
       "       [ 5.00423354e+00,  9.67656176e+00],\n",
       "       [ 9.59552778e+00,  6.34564214e+00],\n",
       "       [ 5.49351270e+00,  7.63236085e+00],\n",
       "       [ 5.36721224e+00,  7.76784669e+00],\n",
       "       [ 6.67717116e+00,  6.38139290e+00],\n",
       "       [ 7.33931642e+00,  6.08566022e+00],\n",
       "       [ 9.44431730e+00,  5.38765250e+00],\n",
       "       [ 5.49930389e+00,  9.00172508e+00],\n",
       "       [ 7.39629138e+00,  6.00759719e+00],\n",
       "       [ 8.81579101e+00,  5.32586732e+00],\n",
       "       [ 8.11531089e+00,  6.96454840e+00],\n",
       "       [ 9.13794877e+00,  6.53646916e+00],\n",
       "       [ 9.01170376e+00,  7.52277198e+00],\n",
       "       [ 8.80713562e+00,  5.19254599e+00],\n",
       "       [ 5.19475518e+00,  8.66525624e+00],\n",
       "       [ 7.19878085e+00,  8.97726181e+00],\n",
       "       [ 7.75819030e+00,  8.33466947e+00],\n",
       "       [ 5.52341298e+00,  8.25427591e+00],\n",
       "       [ 9.08005992e+00,  5.39022730e+00],\n",
       "       [ 6.25581537e+00,  5.02489924e+00],\n",
       "       [ 6.48275360e+00,  8.53283040e+00],\n",
       "       [ 7.65461098e+00,  8.66429297e+00],\n",
       "       [ 6.63049485e+00,  8.49692348e+00],\n",
       "       [ 6.07034967e+00,  9.47788293e+00],\n",
       "       [ 8.43864162e+00,  7.36301782e+00],\n",
       "       [ 7.38633003e+00,  7.46729147e+00],\n",
       "       [ 7.99347979e+00,  9.44855899e+00],\n",
       "       [ 8.48484655e+00,  8.20202097e+00],\n",
       "       [ 6.94373922e+00,  6.80927650e+00],\n",
       "       [ 7.13392089e+00,  9.18709965e+00],\n",
       "       [ 9.09163625e+00,  6.04317292e+00],\n",
       "       [ 5.52230089e+00,  7.60345736e+00],\n",
       "       [ 6.17815197e+00,  6.63597337e+00],\n",
       "       [ 8.53938939e+00,  7.76198922e+00],\n",
       "       [ 5.62221045e+00,  9.66216786e+00],\n",
       "       [ 5.00868194e+00,  5.84621664e+00],\n",
       "       [ 7.90155905e+00,  6.96326894e+00],\n",
       "       [ 6.98134267e+00,  8.96819406e+00],\n",
       "       [ 8.41463593e+00,  8.09733004e+00],\n",
       "       [ 7.97555039e+00,  8.96384671e+00],\n",
       "       [ 5.59162530e+00,  8.39970614e+00],\n",
       "       [ 8.82151165e+00,  7.49941729e+00],\n",
       "       [ 9.48686109e+00,  7.70722998e+00],\n",
       "       [ 7.17321997e+00,  9.76404807e+00],\n",
       "       [ 9.43955397e+00,  6.83106055e+00],\n",
       "       [ 7.54660028e+00,  5.53973603e+00],\n",
       "       [ 8.49639371e+00,  8.51183613e+00],\n",
       "       [ 6.90518098e+00,  7.84687821e+00],\n",
       "       [ 9.58304040e+00,  5.96837092e+00],\n",
       "       [ 8.37384930e+00,  5.62548764e+00],\n",
       "       [ 9.58397009e+00,  5.61543125e+00],\n",
       "       [ 9.09597937e+00,  5.29372473e+00],\n",
       "       [ 6.56131294e+00,  8.66137662e+00],\n",
       "       [ 7.73809832e+00,  5.35729592e+00],\n",
       "       [ 9.05525855e+00,  6.76338332e+00],\n",
       "       [ 7.11450063e+00,  7.37958113e+00],\n",
       "       [ 6.20406195e+00,  6.65547577e+00],\n",
       "       [ 5.17526210e+00,  9.18200697e+00],\n",
       "       [ 5.87325069e+00,  8.23217452e+00],\n",
       "       [ 7.73246269e+00,  8.76791992e+00],\n",
       "       [ 6.82934359e+00,  8.72568951e+00],\n",
       "       [ 7.60204096e+00,  9.81674689e+00],\n",
       "       [ 8.66754618e+00,  5.92745920e+00],\n",
       "       [ 5.59172349e+00,  9.33604626e+00],\n",
       "       [ 9.34235307e+00,  8.67173533e+00],\n",
       "       [ 8.47455874e+00,  5.32332979e+00],\n",
       "       [-1.42292077e+01, -1.38559663e+01],\n",
       "       [-1.33521065e+01, -1.48873566e+01],\n",
       "       [-1.40602151e+01, -1.17138191e+01],\n",
       "       [-1.17395232e+01, -1.47156916e+01],\n",
       "       [-1.26055414e+01, -1.03846899e+01],\n",
       "       [-1.03748562e+01, -1.25929717e+01],\n",
       "       [-1.40028730e+01, -1.33648958e+01],\n",
       "       [-1.34116947e+01, -1.42936658e+01],\n",
       "       [-1.12289831e+01, -1.22283985e+01],\n",
       "       [-1.49572669e+01, -1.34630879e+01],\n",
       "       [-1.01169938e+01, -1.19719303e+01],\n",
       "       [-1.24920036e+01, -1.00955155e+01],\n",
       "       [-1.40628494e+01, -1.32975297e+01],\n",
       "       [-1.44773930e+01, -1.31533321e+01],\n",
       "       [-1.18921973e+01, -1.28545364e+01],\n",
       "       [-1.19584120e+01, -1.41768951e+01],\n",
       "       [-1.12332526e+01, -1.27942687e+01],\n",
       "       [-1.16837676e+01, -1.31309902e+01],\n",
       "       [-1.09955349e+01, -1.09485567e+01],\n",
       "       [-1.40058654e+01, -1.49078151e+01],\n",
       "       [-1.48505194e+01, -1.13088670e+01],\n",
       "       [-1.06754002e+01, -1.31746640e+01],\n",
       "       [-1.17535577e+01, -1.40072090e+01],\n",
       "       [-1.36296572e+01, -1.36581046e+01],\n",
       "       [-1.12591111e+01, -1.39756318e+01],\n",
       "       [-1.20083925e+01, -1.01340680e+01],\n",
       "       [-1.35091996e+01, -1.37887809e+01],\n",
       "       [-1.48195247e+01, -1.31035335e+01],\n",
       "       [-1.07134187e+01, -1.38379114e+01],\n",
       "       [-1.05315080e+01, -1.42779000e+01],\n",
       "       [-1.22799276e+01, -1.39927962e+01],\n",
       "       [-1.30816959e+01, -1.22565690e+01],\n",
       "       [-1.45519667e+01, -1.13182142e+01],\n",
       "       [-1.04788835e+01, -1.32854931e+01],\n",
       "       [-1.38952757e+01, -1.47870049e+01],\n",
       "       [-1.10201177e+01, -1.18084851e+01],\n",
       "       [-1.20714069e+01, -1.32168383e+01],\n",
       "       [-1.36875411e+01, -1.20429346e+01],\n",
       "       [-1.14877724e+01, -1.21768805e+01],\n",
       "       [-1.11190223e+01, -1.33197698e+01],\n",
       "       [-1.48813758e+01, -1.08482412e+01],\n",
       "       [-1.43910520e+01, -1.48108439e+01],\n",
       "       [-1.39877077e+01, -1.01398070e+01],\n",
       "       [-1.16069095e+01, -1.13178118e+01],\n",
       "       [-1.02860385e+01, -1.11069407e+01],\n",
       "       [-1.06794069e+01, -1.43592748e+01],\n",
       "       [-1.30595839e+01, -1.33985207e+01],\n",
       "       [-1.32233663e+01, -1.02433347e+01],\n",
       "       [-1.02042671e+01, -1.25864702e+01],\n",
       "       [-1.37793268e+01, -1.03502989e+01]])"
      ]
     },
     "execution_count": 10,
     "metadata": {},
     "output_type": "execute_result"
    }
   ],
   "source": [
    "data_array"
   ]
  },
  {
   "cell_type": "markdown",
   "metadata": {},
   "source": [
    "# DISPLAYING THE CREATED DATA "
   ]
  },
  {
   "cell_type": "code",
   "execution_count": 11,
   "metadata": {},
   "outputs": [
    {
     "data": {
      "text/plain": [
       "<matplotlib.collections.PathCollection at 0x17ec0354470>"
      ]
     },
     "execution_count": 11,
     "metadata": {},
     "output_type": "execute_result"
    },
    {
     "data": {
      "image/png": "[encoded data removed]",
      "text/plain": [
       "<Figure size 432x288 with 1 Axes>"
      ]
     },
     "metadata": {
      "needs_background": "light"
     },
     "output_type": "display_data"
    }
   ],
   "source": [
    "plt.scatter(data_array[:,0],data_array[:,1],s=5,c='r')"
   ]
  },
  {
   "cell_type": "markdown",
   "metadata": {},
   "source": [
    "# CLUSTERING USING K-MEAN ALGORITHM"
   ]
  },
  {
   "cell_type": "code",
   "execution_count": 12,
   "metadata": {},
   "outputs": [],
   "source": [
    "my_algo=KMeans(n_clusters=3)"
   ]
  },
  {
   "cell_type": "code",
   "execution_count": 13,
   "metadata": {},
   "outputs": [
    {
     "data": {
      "text/plain": [
       "KMeans(algorithm='auto', copy_x=True, init='k-means++', max_iter=300,\n",
       "    n_clusters=3, n_init=10, n_jobs=None, precompute_distances='auto',\n",
       "    random_state=None, tol=0.0001, verbose=0)"
      ]
     },
     "execution_count": 13,
     "metadata": {},
     "output_type": "execute_result"
    }
   ],
   "source": [
    "my_algo.fit(data_array)"
   ]
  },
  {
   "cell_type": "code",
   "execution_count": 14,
   "metadata": {},
   "outputs": [
    {
     "data": {
      "text/plain": [
       "array([[ -2.33428638,  -2.59767016],\n",
       "       [  7.39693227,   7.52497081],\n",
       "       [-12.52806941, -12.74930226]])"
      ]
     },
     "execution_count": 14,
     "metadata": {},
     "output_type": "execute_result"
    }
   ],
   "source": [
    "my_algo.cluster_centers_"
   ]
  },
  {
   "cell_type": "code",
   "execution_count": 15,
   "metadata": {},
   "outputs": [
    {
     "data": {
      "text/plain": [
       "array([0, 0, 0, 0, 0, 0, 0, 0, 0, 0, 0, 0, 0, 0, 0, 0, 0, 0, 0, 0, 0, 0,\n",
       "       0, 0, 0, 0, 0, 0, 0, 0, 0, 0, 0, 0, 0, 0, 0, 0, 0, 0, 0, 0, 0, 0,\n",
       "       0, 0, 0, 0, 0, 0, 0, 0, 0, 0, 0, 0, 0, 0, 0, 0, 0, 0, 0, 0, 0, 0,\n",
       "       0, 0, 0, 0, 0, 0, 0, 0, 0, 0, 0, 0, 0, 0, 0, 0, 0, 0, 0, 0, 0, 0,\n",
       "       0, 0, 0, 0, 0, 0, 0, 0, 0, 0, 0, 0, 0, 0, 0, 0, 0, 0, 0, 0, 0, 0,\n",
       "       0, 0, 0, 0, 0, 0, 0, 0, 0, 0, 0, 0, 0, 0, 0, 0, 0, 0, 0, 0, 0, 0,\n",
       "       0, 0, 0, 0, 0, 0, 0, 0, 0, 0, 0, 0, 0, 0, 0, 0, 0, 0, 1, 1, 1, 1,\n",
       "       1, 1, 1, 1, 1, 1, 1, 1, 1, 1, 1, 1, 1, 1, 1, 1, 1, 1, 1, 1, 1, 1,\n",
       "       1, 1, 1, 1, 1, 1, 1, 1, 1, 1, 1, 1, 1, 1, 1, 1, 1, 1, 1, 1, 1, 1,\n",
       "       1, 1, 1, 1, 1, 1, 1, 1, 1, 1, 1, 1, 1, 1, 1, 1, 1, 1, 1, 1, 1, 1,\n",
       "       1, 1, 1, 1, 1, 1, 1, 1, 1, 1, 1, 1, 1, 1, 1, 1, 1, 1, 1, 1, 1, 1,\n",
       "       1, 1, 1, 1, 1, 1, 1, 1, 2, 2, 2, 2, 2, 2, 2, 2, 2, 2, 2, 2, 2, 2,\n",
       "       2, 2, 2, 2, 2, 2, 2, 2, 2, 2, 2, 2, 2, 2, 2, 2, 2, 2, 2, 2, 2, 2,\n",
       "       2, 2, 2, 2, 2, 2, 2, 2, 2, 2, 2, 2, 2, 2])"
      ]
     },
     "execution_count": 15,
     "metadata": {},
     "output_type": "execute_result"
    }
   ],
   "source": [
    "my_algo.labels_"
   ]
  },
  {
   "cell_type": "markdown",
   "metadata": {},
   "source": [
    "# DISPLAYING THE FINAL  CLUSTERING DONE BY THE ALGORITHM "
   ]
  },
  {
   "cell_type": "code",
   "execution_count": 16,
   "metadata": {},
   "outputs": [
    {
     "data": {
      "text/plain": [
       "<matplotlib.collections.PathCollection at 0x17ec0cbc5f8>"
      ]
     },
     "execution_count": 16,
     "metadata": {},
     "output_type": "execute_result"
    },
    {
     "data": {
      "image/png": "[encoded data removed]",
      "text/plain": [
       "<Figure size 432x288 with 1 Axes>"
      ]
     },
     "metadata": {
      "needs_background": "light"
     },
     "output_type": "display_data"
    }
   ],
   "source": [
    "# plt.scatter(data_array[:,0],data_array[:,1],s=5,c='r')\n",
    "# plt.scatter(my_algo.cluster_centers_[0][0],my_algo.cluster_centers_[0][1],s=50,c='g')\n",
    "\n",
    "# plt.scatter(my_algo.cluster_centers_[1][0],my_algo.cluster_centers_[1][1],s=50,c='y')\n",
    "# plt.scatter(my_algo.cluster_centers_[2][0],my_algo.cluster_centers_[2][1],s=50,c='b')\n",
    "colors=5*['c','k','y','m']\n",
    "for i in range(len(data_array)):\n",
    "    plt.scatter(data_array[i:,0],data_array[i:,1],s=5,c=colors[my_algo.labels_[i]])\n",
    "    \n",
    "plt.scatter(my_algo.cluster_centers_[0][0],my_algo.cluster_centers_[0][1],s=50,c='g')\n",
    "plt.scatter(my_algo.cluster_centers_[1][0],my_algo.cluster_centers_[1][1],s=50,c='y')\n",
    "plt.scatter(my_algo.cluster_centers_[2][0],my_algo.cluster_centers_[2][1],s=50,c='b')"
   ]
  },
  {
   "cell_type": "code",
   "execution_count": 185,
   "metadata": {},
   "outputs": [
    {
     "data": {
      "text/plain": [
       "array([-2.74421669, -2.44743231])"
      ]
     },
     "execution_count": 185,
     "metadata": {},
     "output_type": "execute_result"
    }
   ],
   "source": [
    "my_algo.cluster_centers_[0]"
   ]
  },
  {
   "cell_type": "markdown",
   "metadata": {},
   "source": [
    "# PREDICTING THE CATEGORIES OF THE NEW DATA POINT "
   ]
  },
  {
   "cell_type": "code",
   "execution_count": 186,
   "metadata": {},
   "outputs": [],
   "source": [
    "my_test=np.array([10,10])"
   ]
  },
  {
   "cell_type": "code",
   "execution_count": 187,
   "metadata": {},
   "outputs": [],
   "source": [
    "test=np.reshape??"
   ]
  },
  {
   "cell_type": "code",
   "execution_count": null,
   "metadata": {},
   "outputs": [],
   "source": [
    "test=np.reshape"
   ]
  },
  {
   "cell_type": "code",
   "execution_count": 188,
   "metadata": {},
   "outputs": [],
   "source": [
    "test=np.reshape"
   ]
  },
  {
   "cell_type": "code",
   "execution_count": 189,
   "metadata": {},
   "outputs": [],
   "source": [
    "test=np.reshape(my_test,(1,-1))"
   ]
  },
  {
   "cell_type": "code",
   "execution_count": 190,
   "metadata": {},
   "outputs": [
    {
     "data": {
      "text/plain": [
       "array([1])"
      ]
     },
     "execution_count": 190,
     "metadata": {},
     "output_type": "execute_result"
    }
   ],
   "source": [
    "my_algo.predict(test)"
   ]
  },
  {
   "cell_type": "code",
   "execution_count": null,
   "metadata": {},
   "outputs": [],
   "source": []
  },
  {
   "cell_type": "code",
   "execution_count": null,
   "metadata": {},
   "outputs": [],
   "source": []
  }
 ],
 "metadata": {
  "kernelspec": {
   "display_name": "Python 3",
   "language": "python",
   "name": "python3"
  },
  "language_info": {
   "codemirror_mode": {
    "name": "ipython",
    "version": 3
   },
   "file_extension": ".py",
   "mimetype": "text/x-python",
   "name": "python",
   "nbconvert_exporter": "python",
   "pygments_lexer": "ipython3",
   "version": "3.7.3"
  }
 },
 "nbformat": 4,
 "nbformat_minor": 2
}
